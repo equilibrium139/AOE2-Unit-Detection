{
 "cells": [
  {
   "cell_type": "code",
   "execution_count": 34,
   "id": "b8d9eac9-808f-41a5-86cd-fe07da966725",
   "metadata": {},
   "outputs": [
    {
     "name": "stdout",
     "output_type": "stream",
     "text": [
      "0  regions in image  1\n",
      "0  regions in image  2\n",
      "1  regions in image  3\n",
      "2  regions in image  4\n",
      "3  regions in image  5\n",
      "3  regions in image  6\n",
      "3  regions in image  7\n",
      "3  regions in image  8\n",
      "3  regions in image  9\n",
      "3  regions in image  10\n",
      "4  regions in image  11\n",
      "5  regions in image  12\n",
      "6  regions in image  13\n",
      "6  regions in image  14\n",
      "6  regions in image  15\n",
      "6  regions in image  16\n",
      "6  regions in image  17\n",
      "6  regions in image  18\n",
      "6  regions in image  19\n",
      "6  regions in image  20\n",
      "6  regions in image  21\n",
      "6  regions in image  22\n"
     ]
    }
   ],
   "source": [
    "import skimage\n",
    "from skimage import io\n",
    "import numpy as np\n",
    "import matplotlib.pyplot as plt\n",
    "import math\n",
    "import scipy \n",
    "import pandas as pd \n",
    "from skimage import filters\n",
    "from skimage import feature \n",
    "from scipy import ndimage\n",
    "from skimage.measure import label, regionprops, regionprops_table\n",
    "from skimage.segmentation import slic, mark_boundaries\n",
    "\n",
    "def bgSubRGB(bg, im, T):\n",
    "    # TODO: consider normalizing brightness to avoid selecting shadows\n",
    "    bgR = bg[:,:,0]\n",
    "    bgG = bg[:,:,1]\n",
    "    bgB = bg[:,:,2]\n",
    "    \n",
    "    imR = im[:,:,0]\n",
    "    imG = im[:,:,1]\n",
    "    imB = im[:,:,2]\n",
    "    # Euclidean distance (slide 8 of region detection HW)\n",
    "    return ((imR - bgR) ** 2 + (imG - bgG) ** 2 + (imB - bgB) ** 2) > T ** 2\n",
    "\n",
    "def close(im):\n",
    "    structure=np.ones((3,3))\n",
    "    im = ndimage.binary_dilation(im, structure)\n",
    "    im = ndimage.binary_erosion(im, structure)\n",
    "    return im\n",
    "\n",
    "def open(im):\n",
    "    structure=np.ones((3,3))\n",
    "    im = ndimage.binary_erosion(im, structure)\n",
    "    im = ndimage.binary_dilation(im, structure)\n",
    "    return im\n",
    "        \n",
    "\n",
    "numFrames = 24\n",
    "frames = np.array([io.imread('frames/frame (%d).jpg' % i) for i in range(1,numFrames)], dtype='float64')/255\n",
    "T = 0.21\n",
    "bg = frames[0]\n",
    "for i in range(1, len(frames)):\n",
    "    diff = bgSubRGB(bg, frames[i], T)\n",
    "    diff = open(diff)\n",
    "    diff = skimage.filters.gaussian(diff, sigma=10)\n",
    "    diff = diff > T\n",
    "    labels = label(diff)\n",
    "    regions = regionprops(labels)\n",
    "    properties = regionprops_table(labels, diff, properties=['area','convex_area','bbox_area'])\n",
    "    print(len(regions), \" regions in image \", i)\n",
    "    outlines = mark_boundaries(frames[i], labels)\n",
    "    filename = 'outlines' + str(i) + '.jpg'\n",
    "    io.imsave(filename, (outlines*255).astype(np.uint8))"
   ]
  },
  {
   "cell_type": "code",
   "execution_count": null,
   "id": "944019b3-7f62-4bcf-a6ae-e619c33ec9d1",
   "metadata": {},
   "outputs": [],
   "source": []
  }
 ],
 "metadata": {
  "kernelspec": {
   "display_name": "Python 3 (ipykernel)",
   "language": "python",
   "name": "python3"
  },
  "language_info": {
   "codemirror_mode": {
    "name": "ipython",
    "version": 3
   },
   "file_extension": ".py",
   "mimetype": "text/x-python",
   "name": "python",
   "nbconvert_exporter": "python",
   "pygments_lexer": "ipython3",
   "version": "3.10.4"
  }
 },
 "nbformat": 4,
 "nbformat_minor": 5
}
